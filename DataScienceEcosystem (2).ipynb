{
 "cells": [
  {
   "cell_type": "markdown",
   "id": "22d6c3a6-4d4b-4a33-aca5-77bf1de4b3e1",
   "metadata": {},
   "source": [
    "# Data Science Tools and Ecosystem"
   ]
  },
  {
   "cell_type": "markdown",
   "id": "d35de171-4986-44d6-a46d-995f60384fea",
   "metadata": {},
   "source": [
    "In this notebook, Data Science Tools and Ecosystem are summarized."
   ]
  },
  {
   "cell_type": "markdown",
   "id": "2d193136-c23a-48d0-a5b9-0532d79795b6",
   "metadata": {},
   "source": [
    "Some of the popular languages that Data Scientists use are:\n",
    "\n",
    "1. Python\n",
    "2. R\n",
    "3. SQL\n",
    "4. Scala\n",
    "5. Java\n",
    "6. C++\n",
    "7. Julia\n",
    "8. JavaScript\n",
    "9. Php\n",
    "10. Go\n",
    "11. Ruby\n",
    "12. Visual Basic\n"
   ]
  },
  {
   "cell_type": "markdown",
   "id": "dab700c7-c29b-439f-96c9-382f8d9163eb",
   "metadata": {},
   "source": [
    "Some of the commonly used libraries used by Data Scientists include:\n",
    "\n",
    "1. TensorFlow.\n",
    "2. NumPy.\n",
    "3. SciPy\n",
    "4. Seaborn\n",
    "5. Scikit-lear\n",
    "6. Keras\n",
    "7. TensorFlow\n",
    "8. PyTorch\n",
    "9. Apache Spark\n",
    "10. vegas\n",
    "11. Big Dl\n",
    "12. Ggplot2"
   ]
  },
  {
   "cell_type": "markdown",
   "id": "38b4eebf-bb94-4b11-8236-1cf1cc16607c",
   "metadata": {},
   "source": [
    "| Data Science Tools |\n",
    "| ----------------- |\n",
    "| Jupyter Notebook  |\n",
    "| RStudio           |\n",
    "| PyCharm           |\n"
   ]
  },
  {
   "cell_type": "markdown",
   "id": "57f6bf00-3af8-48ed-b84d-5646eb5b7896",
   "metadata": {},
   "source": [
    "### Below are a few examples of evaluating arithmetic expressions in Python."
   ]
  },
  {
   "cell_type": "code",
   "execution_count": 1,
   "id": "17c121ee",
   "metadata": {
    "tags": []
   },
   "outputs": [
    {
     "data": {
      "text/plain": [
       "17"
      ]
     },
     "execution_count": 1,
     "metadata": {},
     "output_type": "execute_result"
    }
   ],
   "source": [
    "#This a simple arithmetic expression to mutiply then add integers\n",
    "(3*4)+5 \n"
   ]
  },
  {
   "cell_type": "code",
   "execution_count": 2,
   "id": "0617fbf8",
   "metadata": {
    "tags": []
   },
   "outputs": [
    {
     "data": {
      "text/plain": [
       "3.3333333333333335"
      ]
     },
     "execution_count": 2,
     "metadata": {},
     "output_type": "execute_result"
    }
   ],
   "source": [
    "#This will convert 200 minutes to hours by diving by 60.\n",
    "200/60"
   ]
  },
  {
   "cell_type": "markdown",
   "id": "8f59ef24-a9cc-4251-9ff7-c888ad66d793",
   "metadata": {},
   "source": [
    "**Objectives:**\n",
    "\n",
    "- List popular languages for Data Science\n",
    "- Tools use by data Science\n",
    "- Setting up GitHUb\n",
    "- Libarires use by Data Science\n"
   ]
  },
  {
   "cell_type": "markdown",
   "id": "000e575c-02c1-40d2-8dbd-6cfcdc478cd0",
   "metadata": {},
   "source": [
    "## Author\n",
    "Prateek Raj\n"
   ]
  }
 ],
 "metadata": {
  "kernelspec": {
   "display_name": "Python",
   "language": "python",
   "name": "conda-env-python-py"
  },
  "language_info": {
   "codemirror_mode": {
    "name": "ipython",
    "version": 3
   },
   "file_extension": ".py",
   "mimetype": "text/x-python",
   "name": "python",
   "nbconvert_exporter": "python",
   "pygments_lexer": "ipython3",
   "version": "3.7.12"
  }
 },
 "nbformat": 4,
 "nbformat_minor": 5
}
